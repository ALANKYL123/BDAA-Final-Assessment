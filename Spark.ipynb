{
  "nbformat": 4,
  "nbformat_minor": 0,
  "metadata": {
    "colab": {
      "provenance": []
    },
    "kernelspec": {
      "name": "python3",
      "display_name": "Python 3"
    },
    "language_info": {
      "name": "python"
    }
  },
  "cells": [
    {
      "cell_type": "code",
      "execution_count": 11,
      "metadata": {
        "id": "jKXg3Th7q_41"
      },
      "outputs": [],
      "source": [
        "# install Java8\n",
        "!apt-get install openjdk-8-jdk-headless -qq > /dev/null\n",
        "# download spark3.0.0\n",
        "!wget -q https://dlcdn.apache.org/spark/spark-3.3.1/spark-3.3.1-bin-hadoop3.tgz\n",
        "# unzip it\n",
        "!tar xf spark-3.3.1-bin-hadoop3.tgz\n",
        "# install findspark \n",
        "!pip install -q findspark"
      ]
    },
    {
      "cell_type": "code",
      "source": [
        "import os\n",
        "os.environ[\"JAVA_HOME\"] = \"/usr/lib/jvm/java-8-openjdk-amd64\"\n",
        "os.environ[\"SPARK_HOME\"] = \"/content/spark-3.3.1-bin-hadoop3\""
      ],
      "metadata": {
        "id": "PEaV3yRVrHd_"
      },
      "execution_count": 12,
      "outputs": []
    },
    {
      "cell_type": "code",
      "source": [
        "import findspark\n",
        "findspark.init()\n",
        "from pyspark.sql import SparkSession\n",
        "spark = SparkSession.builder.master(\"local[*]\").getOrCreate()\n",
        "spark.conf.set(\"spark.sql.execution.arrow.enabled\", \"true\")\n",
        "sc = spark.sparkContext\n",
        "import pandas as pd\n",
        "from pyspark.sql.types import IntegerType\n",
        "from pyspark.ml.evaluation import BinaryClassificationEvaluator\n",
        "from pyspark.ml.feature import VectorAssembler\n",
        "from pyspark.ml.classification import LogisticRegression"
      ],
      "metadata": {
        "id": "c_Z7k7zgrTmz"
      },
      "execution_count": 13,
      "outputs": []
    },
    {
      "cell_type": "code",
      "source": [
        "# Check the pyspark version\n",
        "import pyspark\n",
        "print(pyspark.__version__)"
      ],
      "metadata": {
        "id": "F4kQjn_crm59",
        "outputId": "7dfc47ea-9348-4227-ebf4-5d4dfb309b68",
        "colab": {
          "base_uri": "https://localhost:8080/"
        }
      },
      "execution_count": 39,
      "outputs": [
        {
          "output_type": "stream",
          "name": "stdout",
          "text": [
            "3.3.1\n"
          ]
        }
      ]
    },
    {
      "cell_type": "code",
      "source": [
        "# Load the data\n",
        "cov19_df = spark.read.csv('Covid_Data.csv',header=True, inferSchema = True)"
      ],
      "metadata": {
        "id": "C_68FiGprZyY"
      },
      "execution_count": 49,
      "outputs": []
    },
    {
      "cell_type": "code",
      "source": [
        "# To show the first 10 rows of dataset\n",
        "cov19_df.show(10)"
      ],
      "metadata": {
        "colab": {
          "base_uri": "https://localhost:8080/"
        },
        "id": "4LfOpNlWdmjT",
        "outputId": "78d3f4dd-6f2b-4d5a-f52b-6a1ead034518"
      },
      "execution_count": 50,
      "outputs": [
        {
          "output_type": "stream",
          "name": "stdout",
          "text": [
            "+-----+------------+---+------------+----------+-------+---------+---+--------+--------+----+------+-------+------------+-------------+--------------+-------+-------------+-------+--------------------+---+\n",
            "|USMER|MEDICAL_UNIT|SEX|PATIENT_TYPE| DATE_DIED|INTUBED|PNEUMONIA|AGE|PREGNANT|DIABETES|COPD|ASTHMA|INMSUPR|HIPERTENSION|OTHER_DISEASE|CARDIOVASCULAR|OBESITY|RENAL_CHRONIC|TOBACCO|CLASIFFICATION_FINAL|ICU|\n",
            "+-----+------------+---+------------+----------+-------+---------+---+--------+--------+----+------+-------+------------+-------------+--------------+-------+-------------+-------+--------------------+---+\n",
            "|    2|           1|  1|           1|03/05/2020|     97|        1| 65|       2|       2|   2|     2|      2|           1|            2|             2|      2|            2|      2|                   3| 97|\n",
            "|    2|           1|  2|           1|03/06/2020|     97|        1| 72|      97|       2|   2|     2|      2|           1|            2|             2|      1|            1|      2|                   5| 97|\n",
            "|    2|           1|  2|           2|09/06/2020|      1|        2| 55|      97|       1|   2|     2|      2|           2|            2|             2|      2|            2|      2|                   3|  2|\n",
            "|    2|           1|  1|           1|12/06/2020|     97|        2| 53|       2|       2|   2|     2|      2|           2|            2|             2|      2|            2|      2|                   7| 97|\n",
            "|    2|           1|  2|           1|21/06/2020|     97|        2| 68|      97|       1|   2|     2|      2|           1|            2|             2|      2|            2|      2|                   3| 97|\n",
            "|    2|           1|  1|           2|9999-99-99|      2|        1| 40|       2|       2|   2|     2|      2|           2|            2|             2|      2|            2|      2|                   3|  2|\n",
            "|    2|           1|  1|           1|9999-99-99|     97|        2| 64|       2|       2|   2|     2|      2|           2|            2|             2|      2|            2|      2|                   3| 97|\n",
            "|    2|           1|  1|           1|9999-99-99|     97|        1| 64|       2|       1|   2|     2|      1|           1|            2|             2|      2|            1|      2|                   3| 97|\n",
            "|    2|           1|  1|           2|9999-99-99|      2|        2| 37|       2|       1|   2|     2|      2|           1|            2|             2|      1|            2|      2|                   3|  2|\n",
            "|    2|           1|  1|           2|9999-99-99|      2|        2| 25|       2|       2|   2|     2|      2|           2|            2|             2|      2|            2|      2|                   3|  2|\n",
            "+-----+------------+---+------------+----------+-------+---------+---+--------+--------+----+------+-------+------------+-------------+--------------+-------+-------------+-------+--------------------+---+\n",
            "only showing top 10 rows\n",
            "\n"
          ]
        }
      ]
    },
    {
      "cell_type": "code",
      "source": [
        "cov19_df.printSchema()"
      ],
      "metadata": {
        "colab": {
          "base_uri": "https://localhost:8080/"
        },
        "id": "LHMu0I-Xrl5F",
        "outputId": "19a7a39f-626f-4919-ce36-8f2d9a880337"
      },
      "execution_count": 51,
      "outputs": [
        {
          "output_type": "stream",
          "name": "stdout",
          "text": [
            "root\n",
            " |-- USMER: integer (nullable = true)\n",
            " |-- MEDICAL_UNIT: integer (nullable = true)\n",
            " |-- SEX: integer (nullable = true)\n",
            " |-- PATIENT_TYPE: integer (nullable = true)\n",
            " |-- DATE_DIED: string (nullable = true)\n",
            " |-- INTUBED: integer (nullable = true)\n",
            " |-- PNEUMONIA: integer (nullable = true)\n",
            " |-- AGE: integer (nullable = true)\n",
            " |-- PREGNANT: integer (nullable = true)\n",
            " |-- DIABETES: integer (nullable = true)\n",
            " |-- COPD: integer (nullable = true)\n",
            " |-- ASTHMA: integer (nullable = true)\n",
            " |-- INMSUPR: integer (nullable = true)\n",
            " |-- HIPERTENSION: integer (nullable = true)\n",
            " |-- OTHER_DISEASE: integer (nullable = true)\n",
            " |-- CARDIOVASCULAR: integer (nullable = true)\n",
            " |-- OBESITY: integer (nullable = true)\n",
            " |-- RENAL_CHRONIC: integer (nullable = true)\n",
            " |-- TOBACCO: integer (nullable = true)\n",
            " |-- CLASIFFICATION_FINAL: integer (nullable = true)\n",
            " |-- ICU: integer (nullable = true)\n",
            "\n"
          ]
        }
      ]
    },
    {
      "cell_type": "code",
      "source": [
        "print(\"There are\", cov19_df.count(), \"rows\", len(cov19_df.columns), \"columns in the dataset\")"
      ],
      "metadata": {
        "colab": {
          "base_uri": "https://localhost:8080/"
        },
        "id": "ZT8kE9sGA8vA",
        "outputId": "454dfd96-bbf3-42f4-e667-7aad59691e8c"
      },
      "execution_count": 52,
      "outputs": [
        {
          "output_type": "stream",
          "name": "stdout",
          "text": [
            "There are 1048575 rows 21 columns in the dataset\n"
          ]
        }
      ]
    },
    {
      "cell_type": "code",
      "source": [
        "# Rename the column name.\n",
        "cov19_df = cov19_df.withColumnRenamed(\"HIPERTENSION\",\"HYPERTENSION\")"
      ],
      "metadata": {
        "id": "bMJ0R5qhs5jT"
      },
      "execution_count": 53,
      "outputs": []
    },
    {
      "cell_type": "code",
      "source": [
        "# Convert Dataframe to Pandas for processing since we have small dataset.\n",
        "cov19_pd_df = cov19_df.toPandas()"
      ],
      "metadata": {
        "id": "MjYQLoDGekCw"
      },
      "execution_count": 54,
      "outputs": []
    },
    {
      "cell_type": "code",
      "source": [
        "# Show the datatypes of each columns.\n",
        "cov19_pd_df.dtypes"
      ],
      "metadata": {
        "colab": {
          "base_uri": "https://localhost:8080/"
        },
        "id": "ps3dPShZFcVQ",
        "outputId": "ff05fe22-3416-49e1-c9d3-c2cef94b956d"
      },
      "execution_count": 55,
      "outputs": [
        {
          "output_type": "execute_result",
          "data": {
            "text/plain": [
              "USMER                    int32\n",
              "MEDICAL_UNIT             int32\n",
              "SEX                      int32\n",
              "PATIENT_TYPE             int32\n",
              "DATE_DIED               object\n",
              "INTUBED                  int32\n",
              "PNEUMONIA                int32\n",
              "AGE                      int32\n",
              "PREGNANT                 int32\n",
              "DIABETES                 int32\n",
              "COPD                     int32\n",
              "ASTHMA                   int32\n",
              "INMSUPR                  int32\n",
              "HYPERTENSION             int32\n",
              "OTHER_DISEASE            int32\n",
              "CARDIOVASCULAR           int32\n",
              "OBESITY                  int32\n",
              "RENAL_CHRONIC            int32\n",
              "TOBACCO                  int32\n",
              "CLASIFFICATION_FINAL     int32\n",
              "ICU                      int32\n",
              "dtype: object"
            ]
          },
          "metadata": {},
          "execution_count": 55
        }
      ]
    },
    {
      "cell_type": "code",
      "source": [
        "# Show first 5 rows of Pandas DataFrame.\n",
        "cov19_pd_df.head()"
      ],
      "metadata": {
        "colab": {
          "base_uri": "https://localhost:8080/",
          "height": 300
        },
        "id": "KoQOIQFOYsL5",
        "outputId": "f69d4223-1bb1-4558-e4c6-fea7c7010e73"
      },
      "execution_count": 56,
      "outputs": [
        {
          "output_type": "execute_result",
          "data": {
            "text/plain": [
              "   USMER  MEDICAL_UNIT  SEX  PATIENT_TYPE   DATE_DIED  INTUBED  PNEUMONIA  \\\n",
              "0      2             1    1             1  03/05/2020       97          1   \n",
              "1      2             1    2             1  03/06/2020       97          1   \n",
              "2      2             1    2             2  09/06/2020        1          2   \n",
              "3      2             1    1             1  12/06/2020       97          2   \n",
              "4      2             1    2             1  21/06/2020       97          2   \n",
              "\n",
              "   AGE  PREGNANT  DIABETES  ...  ASTHMA  INMSUPR  HYPERTENSION  OTHER_DISEASE  \\\n",
              "0   65         2         2  ...       2        2             1              2   \n",
              "1   72        97         2  ...       2        2             1              2   \n",
              "2   55        97         1  ...       2        2             2              2   \n",
              "3   53         2         2  ...       2        2             2              2   \n",
              "4   68        97         1  ...       2        2             1              2   \n",
              "\n",
              "   CARDIOVASCULAR  OBESITY  RENAL_CHRONIC  TOBACCO  CLASIFFICATION_FINAL  ICU  \n",
              "0               2        2              2        2                     3   97  \n",
              "1               2        1              1        2                     5   97  \n",
              "2               2        2              2        2                     3    2  \n",
              "3               2        2              2        2                     7   97  \n",
              "4               2        2              2        2                     3   97  \n",
              "\n",
              "[5 rows x 21 columns]"
            ],
            "text/html": [
              "\n",
              "  <div id=\"df-342a4892-d950-4b83-9621-0dbd17b112bb\">\n",
              "    <div class=\"colab-df-container\">\n",
              "      <div>\n",
              "<style scoped>\n",
              "    .dataframe tbody tr th:only-of-type {\n",
              "        vertical-align: middle;\n",
              "    }\n",
              "\n",
              "    .dataframe tbody tr th {\n",
              "        vertical-align: top;\n",
              "    }\n",
              "\n",
              "    .dataframe thead th {\n",
              "        text-align: right;\n",
              "    }\n",
              "</style>\n",
              "<table border=\"1\" class=\"dataframe\">\n",
              "  <thead>\n",
              "    <tr style=\"text-align: right;\">\n",
              "      <th></th>\n",
              "      <th>USMER</th>\n",
              "      <th>MEDICAL_UNIT</th>\n",
              "      <th>SEX</th>\n",
              "      <th>PATIENT_TYPE</th>\n",
              "      <th>DATE_DIED</th>\n",
              "      <th>INTUBED</th>\n",
              "      <th>PNEUMONIA</th>\n",
              "      <th>AGE</th>\n",
              "      <th>PREGNANT</th>\n",
              "      <th>DIABETES</th>\n",
              "      <th>...</th>\n",
              "      <th>ASTHMA</th>\n",
              "      <th>INMSUPR</th>\n",
              "      <th>HYPERTENSION</th>\n",
              "      <th>OTHER_DISEASE</th>\n",
              "      <th>CARDIOVASCULAR</th>\n",
              "      <th>OBESITY</th>\n",
              "      <th>RENAL_CHRONIC</th>\n",
              "      <th>TOBACCO</th>\n",
              "      <th>CLASIFFICATION_FINAL</th>\n",
              "      <th>ICU</th>\n",
              "    </tr>\n",
              "  </thead>\n",
              "  <tbody>\n",
              "    <tr>\n",
              "      <th>0</th>\n",
              "      <td>2</td>\n",
              "      <td>1</td>\n",
              "      <td>1</td>\n",
              "      <td>1</td>\n",
              "      <td>03/05/2020</td>\n",
              "      <td>97</td>\n",
              "      <td>1</td>\n",
              "      <td>65</td>\n",
              "      <td>2</td>\n",
              "      <td>2</td>\n",
              "      <td>...</td>\n",
              "      <td>2</td>\n",
              "      <td>2</td>\n",
              "      <td>1</td>\n",
              "      <td>2</td>\n",
              "      <td>2</td>\n",
              "      <td>2</td>\n",
              "      <td>2</td>\n",
              "      <td>2</td>\n",
              "      <td>3</td>\n",
              "      <td>97</td>\n",
              "    </tr>\n",
              "    <tr>\n",
              "      <th>1</th>\n",
              "      <td>2</td>\n",
              "      <td>1</td>\n",
              "      <td>2</td>\n",
              "      <td>1</td>\n",
              "      <td>03/06/2020</td>\n",
              "      <td>97</td>\n",
              "      <td>1</td>\n",
              "      <td>72</td>\n",
              "      <td>97</td>\n",
              "      <td>2</td>\n",
              "      <td>...</td>\n",
              "      <td>2</td>\n",
              "      <td>2</td>\n",
              "      <td>1</td>\n",
              "      <td>2</td>\n",
              "      <td>2</td>\n",
              "      <td>1</td>\n",
              "      <td>1</td>\n",
              "      <td>2</td>\n",
              "      <td>5</td>\n",
              "      <td>97</td>\n",
              "    </tr>\n",
              "    <tr>\n",
              "      <th>2</th>\n",
              "      <td>2</td>\n",
              "      <td>1</td>\n",
              "      <td>2</td>\n",
              "      <td>2</td>\n",
              "      <td>09/06/2020</td>\n",
              "      <td>1</td>\n",
              "      <td>2</td>\n",
              "      <td>55</td>\n",
              "      <td>97</td>\n",
              "      <td>1</td>\n",
              "      <td>...</td>\n",
              "      <td>2</td>\n",
              "      <td>2</td>\n",
              "      <td>2</td>\n",
              "      <td>2</td>\n",
              "      <td>2</td>\n",
              "      <td>2</td>\n",
              "      <td>2</td>\n",
              "      <td>2</td>\n",
              "      <td>3</td>\n",
              "      <td>2</td>\n",
              "    </tr>\n",
              "    <tr>\n",
              "      <th>3</th>\n",
              "      <td>2</td>\n",
              "      <td>1</td>\n",
              "      <td>1</td>\n",
              "      <td>1</td>\n",
              "      <td>12/06/2020</td>\n",
              "      <td>97</td>\n",
              "      <td>2</td>\n",
              "      <td>53</td>\n",
              "      <td>2</td>\n",
              "      <td>2</td>\n",
              "      <td>...</td>\n",
              "      <td>2</td>\n",
              "      <td>2</td>\n",
              "      <td>2</td>\n",
              "      <td>2</td>\n",
              "      <td>2</td>\n",
              "      <td>2</td>\n",
              "      <td>2</td>\n",
              "      <td>2</td>\n",
              "      <td>7</td>\n",
              "      <td>97</td>\n",
              "    </tr>\n",
              "    <tr>\n",
              "      <th>4</th>\n",
              "      <td>2</td>\n",
              "      <td>1</td>\n",
              "      <td>2</td>\n",
              "      <td>1</td>\n",
              "      <td>21/06/2020</td>\n",
              "      <td>97</td>\n",
              "      <td>2</td>\n",
              "      <td>68</td>\n",
              "      <td>97</td>\n",
              "      <td>1</td>\n",
              "      <td>...</td>\n",
              "      <td>2</td>\n",
              "      <td>2</td>\n",
              "      <td>1</td>\n",
              "      <td>2</td>\n",
              "      <td>2</td>\n",
              "      <td>2</td>\n",
              "      <td>2</td>\n",
              "      <td>2</td>\n",
              "      <td>3</td>\n",
              "      <td>97</td>\n",
              "    </tr>\n",
              "  </tbody>\n",
              "</table>\n",
              "<p>5 rows × 21 columns</p>\n",
              "</div>\n",
              "      <button class=\"colab-df-convert\" onclick=\"convertToInteractive('df-342a4892-d950-4b83-9621-0dbd17b112bb')\"\n",
              "              title=\"Convert this dataframe to an interactive table.\"\n",
              "              style=\"display:none;\">\n",
              "        \n",
              "  <svg xmlns=\"http://www.w3.org/2000/svg\" height=\"24px\"viewBox=\"0 0 24 24\"\n",
              "       width=\"24px\">\n",
              "    <path d=\"M0 0h24v24H0V0z\" fill=\"none\"/>\n",
              "    <path d=\"M18.56 5.44l.94 2.06.94-2.06 2.06-.94-2.06-.94-.94-2.06-.94 2.06-2.06.94zm-11 1L8.5 8.5l.94-2.06 2.06-.94-2.06-.94L8.5 2.5l-.94 2.06-2.06.94zm10 10l.94 2.06.94-2.06 2.06-.94-2.06-.94-.94-2.06-.94 2.06-2.06.94z\"/><path d=\"M17.41 7.96l-1.37-1.37c-.4-.4-.92-.59-1.43-.59-.52 0-1.04.2-1.43.59L10.3 9.45l-7.72 7.72c-.78.78-.78 2.05 0 2.83L4 21.41c.39.39.9.59 1.41.59.51 0 1.02-.2 1.41-.59l7.78-7.78 2.81-2.81c.8-.78.8-2.07 0-2.86zM5.41 20L4 18.59l7.72-7.72 1.47 1.35L5.41 20z\"/>\n",
              "  </svg>\n",
              "      </button>\n",
              "      \n",
              "  <style>\n",
              "    .colab-df-container {\n",
              "      display:flex;\n",
              "      flex-wrap:wrap;\n",
              "      gap: 12px;\n",
              "    }\n",
              "\n",
              "    .colab-df-convert {\n",
              "      background-color: #E8F0FE;\n",
              "      border: none;\n",
              "      border-radius: 50%;\n",
              "      cursor: pointer;\n",
              "      display: none;\n",
              "      fill: #1967D2;\n",
              "      height: 32px;\n",
              "      padding: 0 0 0 0;\n",
              "      width: 32px;\n",
              "    }\n",
              "\n",
              "    .colab-df-convert:hover {\n",
              "      background-color: #E2EBFA;\n",
              "      box-shadow: 0px 1px 2px rgba(60, 64, 67, 0.3), 0px 1px 3px 1px rgba(60, 64, 67, 0.15);\n",
              "      fill: #174EA6;\n",
              "    }\n",
              "\n",
              "    [theme=dark] .colab-df-convert {\n",
              "      background-color: #3B4455;\n",
              "      fill: #D2E3FC;\n",
              "    }\n",
              "\n",
              "    [theme=dark] .colab-df-convert:hover {\n",
              "      background-color: #434B5C;\n",
              "      box-shadow: 0px 1px 3px 1px rgba(0, 0, 0, 0.15);\n",
              "      filter: drop-shadow(0px 1px 2px rgba(0, 0, 0, 0.3));\n",
              "      fill: #FFFFFF;\n",
              "    }\n",
              "  </style>\n",
              "\n",
              "      <script>\n",
              "        const buttonEl =\n",
              "          document.querySelector('#df-342a4892-d950-4b83-9621-0dbd17b112bb button.colab-df-convert');\n",
              "        buttonEl.style.display =\n",
              "          google.colab.kernel.accessAllowed ? 'block' : 'none';\n",
              "\n",
              "        async function convertToInteractive(key) {\n",
              "          const element = document.querySelector('#df-342a4892-d950-4b83-9621-0dbd17b112bb');\n",
              "          const dataTable =\n",
              "            await google.colab.kernel.invokeFunction('convertToInteractive',\n",
              "                                                     [key], {});\n",
              "          if (!dataTable) return;\n",
              "\n",
              "          const docLinkHtml = 'Like what you see? Visit the ' +\n",
              "            '<a target=\"_blank\" href=https://colab.research.google.com/notebooks/data_table.ipynb>data table notebook</a>'\n",
              "            + ' to learn more about interactive tables.';\n",
              "          element.innerHTML = '';\n",
              "          dataTable['output_type'] = 'display_data';\n",
              "          await google.colab.output.renderOutput(dataTable, element);\n",
              "          const docLink = document.createElement('div');\n",
              "          docLink.innerHTML = docLinkHtml;\n",
              "          element.appendChild(docLink);\n",
              "        }\n",
              "      </script>\n",
              "    </div>\n",
              "  </div>\n",
              "  "
            ]
          },
          "metadata": {},
          "execution_count": 56
        }
      ]
    },
    {
      "cell_type": "markdown",
      "source": [
        "# Data Processing"
      ],
      "metadata": {
        "id": "Wtr5sOsH1Rs-"
      }
    },
    {
      "cell_type": "code",
      "source": [
        "# Checking the missing values (97, 98, 99)\n",
        "for col in cov19_pd_df.columns:\n",
        "    print(col)\n",
        "    print(cov19_pd_df.loc[cov19_pd_df[col] == 97, col].count())\n",
        "    print(cov19_pd_df.loc[cov19_pd_df[col] == 98, col].count())\n",
        "    print(cov19_pd_df.loc[cov19_pd_df[col] == 99, col].count())\n",
        "    print()"
      ],
      "metadata": {
        "colab": {
          "base_uri": "https://localhost:8080/"
        },
        "id": "3uuesSRE1Ue7",
        "outputId": "35dd1dfc-eb45-4e80-d8f3-28f56dc0b70a"
      },
      "execution_count": 57,
      "outputs": [
        {
          "output_type": "stream",
          "name": "stdout",
          "text": [
            "USMER\n",
            "0\n",
            "0\n",
            "0\n",
            "\n",
            "MEDICAL_UNIT\n",
            "0\n",
            "0\n",
            "0\n",
            "\n",
            "SEX\n",
            "0\n",
            "0\n",
            "0\n",
            "\n",
            "PATIENT_TYPE\n",
            "0\n",
            "0\n",
            "0\n",
            "\n",
            "DATE_DIED\n",
            "0\n",
            "0\n",
            "0\n",
            "\n",
            "INTUBED\n",
            "848544\n",
            "0\n",
            "7325\n",
            "\n",
            "PNEUMONIA\n",
            "0\n",
            "0\n",
            "16003\n",
            "\n",
            "AGE\n",
            "135\n",
            "124\n",
            "86\n",
            "\n",
            "PREGNANT\n",
            "523511\n",
            "3754\n",
            "0\n",
            "\n",
            "DIABETES\n",
            "0\n",
            "3338\n",
            "0\n",
            "\n",
            "COPD\n",
            "0\n",
            "3003\n",
            "0\n",
            "\n",
            "ASTHMA\n",
            "0\n",
            "2979\n",
            "0\n",
            "\n",
            "INMSUPR\n",
            "0\n",
            "3404\n",
            "0\n",
            "\n",
            "HYPERTENSION\n",
            "0\n",
            "3104\n",
            "0\n",
            "\n",
            "OTHER_DISEASE\n",
            "0\n",
            "5045\n",
            "0\n",
            "\n",
            "CARDIOVASCULAR\n",
            "0\n",
            "3076\n",
            "0\n",
            "\n",
            "OBESITY\n",
            "0\n",
            "3032\n",
            "0\n",
            "\n",
            "RENAL_CHRONIC\n",
            "0\n",
            "3006\n",
            "0\n",
            "\n",
            "TOBACCO\n",
            "0\n",
            "3220\n",
            "0\n",
            "\n",
            "CLASIFFICATION_FINAL\n",
            "0\n",
            "0\n",
            "0\n",
            "\n",
            "ICU\n",
            "848544\n",
            "0\n",
            "7488\n",
            "\n"
          ]
        }
      ]
    },
    {
      "cell_type": "code",
      "source": [
        "# Parse the missing values of the PREGNANT column\n",
        "cov19_pd_df.groupby(['PREGNANT', 'SEX'])['SEX'].count()"
      ],
      "metadata": {
        "colab": {
          "base_uri": "https://localhost:8080/"
        },
        "id": "c-4V8d0A1yl4",
        "outputId": "678a2d4e-64c3-4a55-dbed-b7290c4ace15"
      },
      "execution_count": 58,
      "outputs": [
        {
          "output_type": "execute_result",
          "data": {
            "text/plain": [
              "PREGNANT  SEX\n",
              "1         1        8131\n",
              "2         1      513179\n",
              "97        2      523511\n",
              "98        1        3754\n",
              "Name: SEX, dtype: int64"
            ]
          },
          "metadata": {},
          "execution_count": 58
        }
      ]
    },
    {
      "cell_type": "markdown",
      "source": [
        "It can be observed that all values '97' are under men. Hence the value '2' in PREGNANT can be replaced as '2'"
      ],
      "metadata": {
        "id": "yPGs4OlE3yGM"
      }
    },
    {
      "cell_type": "code",
      "source": [
        "# Replace value '97' to '2' in PREGNANT column.\n",
        "cov19_pd_df.PREGNANT = cov19_pd_df.PREGNANT.replace(97, 2)"
      ],
      "metadata": {
        "id": "m4NFVtCZ3gfc"
      },
      "execution_count": 59,
      "outputs": []
    },
    {
      "cell_type": "code",
      "source": [
        "cov19_pd_df.PREGNANT.value_counts()"
      ],
      "metadata": {
        "colab": {
          "base_uri": "https://localhost:8080/"
        },
        "id": "1gBWRFvhDpAj",
        "outputId": "9cfda71c-ccac-4668-b859-3a72a917f42d"
      },
      "execution_count": 60,
      "outputs": [
        {
          "output_type": "execute_result",
          "data": {
            "text/plain": [
              "2     1036690\n",
              "1        8131\n",
              "98       3754\n",
              "Name: PREGNANT, dtype: int64"
            ]
          },
          "metadata": {},
          "execution_count": 60
        }
      ]
    },
    {
      "cell_type": "code",
      "source": [
        "# Parse the missing values of the INTUBED columns.\n",
        "cov19_pd_df.groupby(['INTUBED', 'PATIENT_TYPE'])['PATIENT_TYPE'].count()"
      ],
      "metadata": {
        "colab": {
          "base_uri": "https://localhost:8080/"
        },
        "id": "EI1hi4LjaQ5J",
        "outputId": "c3bc57f3-385e-44b5-a655-1bc5ef5fcf7b"
      },
      "execution_count": 61,
      "outputs": [
        {
          "output_type": "execute_result",
          "data": {
            "text/plain": [
              "INTUBED  PATIENT_TYPE\n",
              "1        2                33656\n",
              "2        2               159050\n",
              "97       1               848544\n",
              "99       2                 7325\n",
              "Name: PATIENT_TYPE, dtype: int64"
            ]
          },
          "metadata": {},
          "execution_count": 61
        }
      ]
    },
    {
      "cell_type": "markdown",
      "source": [
        "Since we cannot determine whether the returned home patients were attached to a ventilator or not, the records in INTUBED column with value '97' and '99' are dropped"
      ],
      "metadata": {
        "id": "Y2eSqxX6ao4u"
      }
    },
    {
      "cell_type": "code",
      "source": [
        "# Drop the rows with values '97' and '99' in INTUBED column.\n",
        "cov19_pd_df.drop(cov19_pd_df.index[cov19_pd_df.INTUBED == 97], axis=0, inplace=True)\n",
        "cov19_pd_df.drop(cov19_pd_df.index[cov19_pd_df.INTUBED == 99], axis=0, inplace=True)"
      ],
      "metadata": {
        "id": "UbePpPtia9_u"
      },
      "execution_count": 62,
      "outputs": []
    },
    {
      "cell_type": "code",
      "source": [
        "cov19_pd_df.INTUBED.value_counts()"
      ],
      "metadata": {
        "colab": {
          "base_uri": "https://localhost:8080/"
        },
        "id": "xEkZt1AmbPSD",
        "outputId": "049f933d-6c5e-4a07-8777-1f7450d1e25c"
      },
      "execution_count": 63,
      "outputs": [
        {
          "output_type": "execute_result",
          "data": {
            "text/plain": [
              "2    159050\n",
              "1     33656\n",
              "Name: INTUBED, dtype: int64"
            ]
          },
          "metadata": {},
          "execution_count": 63
        }
      ]
    },
    {
      "cell_type": "code",
      "source": [
        "# Parse the missing values of the ICU columns.\n",
        "cov19_pd_df.groupby(['ICU', 'PATIENT_TYPE'])['PATIENT_TYPE'].count()"
      ],
      "metadata": {
        "colab": {
          "base_uri": "https://localhost:8080/"
        },
        "id": "wPyjWRsrbVDR",
        "outputId": "35ce03a7-2198-44d8-c6f4-685a8cd63529"
      },
      "execution_count": 64,
      "outputs": [
        {
          "output_type": "execute_result",
          "data": {
            "text/plain": [
              "ICU  PATIENT_TYPE\n",
              "1    2                16858\n",
              "2    2               175683\n",
              "99   2                  165\n",
              "Name: PATIENT_TYPE, dtype: int64"
            ]
          },
          "metadata": {},
          "execution_count": 64
        }
      ]
    },
    {
      "cell_type": "markdown",
      "source": [
        "Since it is unknown that the hospitalised patients were admitted to ICU, the records in ICU column with value '99' are dropped."
      ],
      "metadata": {
        "id": "R91gTeKFbfWq"
      }
    },
    {
      "cell_type": "code",
      "source": [
        "# Drop the rows with value '99' in ICU column.\n",
        "cov19_pd_df.drop(cov19_pd_df.index[cov19_pd_df.ICU == 99], axis=0, inplace=True)"
      ],
      "metadata": {
        "id": "Rkz_yenibekN"
      },
      "execution_count": 65,
      "outputs": []
    },
    {
      "cell_type": "code",
      "source": [
        "cov19_pd_df.ICU.value_counts()"
      ],
      "metadata": {
        "colab": {
          "base_uri": "https://localhost:8080/"
        },
        "id": "cox1PP1kb-Df",
        "outputId": "a2cd08ee-6124-4edd-b227-226630505bf9"
      },
      "execution_count": 66,
      "outputs": [
        {
          "output_type": "execute_result",
          "data": {
            "text/plain": [
              "2    175683\n",
              "1     16858\n",
              "Name: ICU, dtype: int64"
            ]
          },
          "metadata": {},
          "execution_count": 66
        }
      ]
    },
    {
      "cell_type": "code",
      "source": [
        "# Drop the rows with the value of '98'.\n",
        "cov19_pd_df.drop(cov19_pd_df.index[cov19_pd_df.PNEUMONIA == 99], axis=0, inplace=True)\n",
        "cov19_pd_df.drop(cov19_pd_df.index[cov19_pd_df.PREGNANT == 98], axis=0, inplace=True)\n",
        "cov19_pd_df.drop(cov19_pd_df.index[cov19_pd_df.COPD == 98], axis=0, inplace=True)\n",
        "cov19_pd_df.drop(cov19_pd_df.index[cov19_pd_df.DIABETES == 98], axis=0, inplace=True)\n",
        "cov19_pd_df.drop(cov19_pd_df.index[cov19_pd_df.ASTHMA == 98], axis=0, inplace=True)\n",
        "cov19_pd_df.drop(cov19_pd_df.index[cov19_pd_df.INMSUPR == 98], axis=0, inplace=True)\n",
        "cov19_pd_df.drop(cov19_pd_df.index[cov19_pd_df.HYPERTENSION == 98], axis=0, inplace=True)\n",
        "cov19_pd_df.drop(cov19_pd_df.index[cov19_pd_df.OTHER_DISEASE == 98], axis=0, inplace=True)\n",
        "cov19_pd_df.drop(cov19_pd_df.index[cov19_pd_df.CARDIOVASCULAR == 98], axis=0, inplace=True)\n",
        "cov19_pd_df.drop(cov19_pd_df.index[cov19_pd_df.OBESITY == 98], axis=0, inplace=True)\n",
        "cov19_pd_df.drop(cov19_pd_df.index[cov19_pd_df.RENAL_CHRONIC == 98], axis=0, inplace=True)\n",
        "cov19_pd_df.drop(cov19_pd_df.index[cov19_pd_df.TOBACCO == 98], axis=0, inplace=True)"
      ],
      "metadata": {
        "id": "WT1Z0VPoXizx"
      },
      "execution_count": 67,
      "outputs": []
    },
    {
      "cell_type": "code",
      "source": [
        "# Creating a new column DIED as the target variable as the risk level of Covid-19 patients. \n",
        "# Create a function to get the values of DIED column from DATE_DIED column, value '1' means died and '0' means not died.\n",
        "def died_column(row):\n",
        "    if row == '9999-99-99':\n",
        "        return 0\n",
        "    else:\n",
        "        return 1"
      ],
      "metadata": {
        "id": "iMB7_LHOcIoe"
      },
      "execution_count": 68,
      "outputs": []
    },
    {
      "cell_type": "code",
      "source": [
        "cov19_pd_df['DIED'] = cov19_pd_df.DATE_DIED.apply(died_column)"
      ],
      "metadata": {
        "id": "NZlxh29Zc6Ve"
      },
      "execution_count": 69,
      "outputs": []
    },
    {
      "cell_type": "code",
      "source": [
        "cov19_pd_df.DIED.value_counts()"
      ],
      "metadata": {
        "colab": {
          "base_uri": "https://localhost:8080/"
        },
        "id": "CYwPn86FdEek",
        "outputId": "38854312-e588-471d-f2cf-44c86f779aad"
      },
      "execution_count": 70,
      "outputs": [
        {
          "output_type": "execute_result",
          "data": {
            "text/plain": [
              "0    122643\n",
              "1     66638\n",
              "Name: DIED, dtype: int64"
            ]
          },
          "metadata": {},
          "execution_count": 70
        }
      ]
    },
    {
      "cell_type": "markdown",
      "source": [
        "We can observe that there are 122643 patients are dead and 66638 are not."
      ],
      "metadata": {
        "id": "iixNalg9ecsV"
      }
    },
    {
      "cell_type": "code",
      "source": [
        "# Convert the Pandas DataFrame back to PySpark DataFrame.\n",
        "cov19_df = spark.createDataFrame(cov19_pd_df)"
      ],
      "metadata": {
        "id": "e2efyqogfSTj"
      },
      "execution_count": 71,
      "outputs": []
    },
    {
      "cell_type": "code",
      "source": [
        "cov19_df.show(5)"
      ],
      "metadata": {
        "colab": {
          "base_uri": "https://localhost:8080/"
        },
        "id": "FtsbpeDQfwxi",
        "outputId": "4815cdbd-dd0f-4142-a568-47576c6330f8"
      },
      "execution_count": 72,
      "outputs": [
        {
          "output_type": "stream",
          "name": "stdout",
          "text": [
            "+-----+------------+---+------------+----------+-------+---------+---+--------+--------+----+------+-------+------------+-------------+--------------+-------+-------------+-------+--------------------+---+----+\n",
            "|USMER|MEDICAL_UNIT|SEX|PATIENT_TYPE| DATE_DIED|INTUBED|PNEUMONIA|AGE|PREGNANT|DIABETES|COPD|ASTHMA|INMSUPR|HYPERTENSION|OTHER_DISEASE|CARDIOVASCULAR|OBESITY|RENAL_CHRONIC|TOBACCO|CLASIFFICATION_FINAL|ICU|DIED|\n",
            "+-----+------------+---+------------+----------+-------+---------+---+--------+--------+----+------+-------+------------+-------------+--------------+-------+-------------+-------+--------------------+---+----+\n",
            "|    2|           1|  2|           2|09/06/2020|      1|        2| 55|       2|       1|   2|     2|      2|           2|            2|             2|      2|            2|      2|                   3|  2|   1|\n",
            "|    2|           1|  1|           2|9999-99-99|      2|        1| 40|       2|       2|   2|     2|      2|           2|            2|             2|      2|            2|      2|                   3|  2|   0|\n",
            "|    2|           1|  1|           2|9999-99-99|      2|        2| 37|       2|       1|   2|     2|      2|           1|            2|             2|      1|            2|      2|                   3|  2|   0|\n",
            "|    2|           1|  1|           2|9999-99-99|      2|        2| 25|       2|       2|   2|     2|      2|           2|            2|             2|      2|            2|      2|                   3|  2|   0|\n",
            "|    2|           1|  2|           2|9999-99-99|      2|        2| 24|       2|       2|   2|     2|      2|           2|            2|             2|      2|            2|      2|                   3|  2|   0|\n",
            "+-----+------------+---+------------+----------+-------+---------+---+--------+--------+----+------+-------+------------+-------------+--------------+-------+-------------+-------+--------------------+---+----+\n",
            "only showing top 5 rows\n",
            "\n"
          ]
        }
      ]
    },
    {
      "cell_type": "code",
      "source": [
        "# Check the data types of each feature.\n",
        "cov19_df.printSchema()"
      ],
      "metadata": {
        "colab": {
          "base_uri": "https://localhost:8080/"
        },
        "id": "-7H4pdbVk_Zf",
        "outputId": "a6fcdf21-6914-4e1b-dc53-8c5c1d1d9b3d"
      },
      "execution_count": 73,
      "outputs": [
        {
          "output_type": "stream",
          "name": "stdout",
          "text": [
            "root\n",
            " |-- USMER: integer (nullable = true)\n",
            " |-- MEDICAL_UNIT: integer (nullable = true)\n",
            " |-- SEX: integer (nullable = true)\n",
            " |-- PATIENT_TYPE: integer (nullable = true)\n",
            " |-- DATE_DIED: string (nullable = true)\n",
            " |-- INTUBED: integer (nullable = true)\n",
            " |-- PNEUMONIA: integer (nullable = true)\n",
            " |-- AGE: integer (nullable = true)\n",
            " |-- PREGNANT: integer (nullable = true)\n",
            " |-- DIABETES: integer (nullable = true)\n",
            " |-- COPD: integer (nullable = true)\n",
            " |-- ASTHMA: integer (nullable = true)\n",
            " |-- INMSUPR: integer (nullable = true)\n",
            " |-- HYPERTENSION: integer (nullable = true)\n",
            " |-- OTHER_DISEASE: integer (nullable = true)\n",
            " |-- CARDIOVASCULAR: integer (nullable = true)\n",
            " |-- OBESITY: integer (nullable = true)\n",
            " |-- RENAL_CHRONIC: integer (nullable = true)\n",
            " |-- TOBACCO: integer (nullable = true)\n",
            " |-- CLASIFFICATION_FINAL: integer (nullable = true)\n",
            " |-- ICU: integer (nullable = true)\n",
            " |-- DIED: long (nullable = true)\n",
            "\n"
          ]
        }
      ]
    },
    {
      "cell_type": "code",
      "source": [
        "# Convert columns to int\n",
        "cov19_df = cov19_df.withColumn('DIED',cov19_df.DIED.cast(IntegerType()))"
      ],
      "metadata": {
        "id": "d4ivmNqmEfT-"
      },
      "execution_count": 74,
      "outputs": []
    },
    {
      "cell_type": "code",
      "source": [
        "# Check again the data types of each feature.\n",
        "cov19_df.printSchema()"
      ],
      "metadata": {
        "colab": {
          "base_uri": "https://localhost:8080/"
        },
        "id": "W22NiDaPEuXo",
        "outputId": "035e98bc-c5b0-45b7-9901-7729cb5777ca"
      },
      "execution_count": 75,
      "outputs": [
        {
          "output_type": "stream",
          "name": "stdout",
          "text": [
            "root\n",
            " |-- USMER: integer (nullable = true)\n",
            " |-- MEDICAL_UNIT: integer (nullable = true)\n",
            " |-- SEX: integer (nullable = true)\n",
            " |-- PATIENT_TYPE: integer (nullable = true)\n",
            " |-- DATE_DIED: string (nullable = true)\n",
            " |-- INTUBED: integer (nullable = true)\n",
            " |-- PNEUMONIA: integer (nullable = true)\n",
            " |-- AGE: integer (nullable = true)\n",
            " |-- PREGNANT: integer (nullable = true)\n",
            " |-- DIABETES: integer (nullable = true)\n",
            " |-- COPD: integer (nullable = true)\n",
            " |-- ASTHMA: integer (nullable = true)\n",
            " |-- INMSUPR: integer (nullable = true)\n",
            " |-- HYPERTENSION: integer (nullable = true)\n",
            " |-- OTHER_DISEASE: integer (nullable = true)\n",
            " |-- CARDIOVASCULAR: integer (nullable = true)\n",
            " |-- OBESITY: integer (nullable = true)\n",
            " |-- RENAL_CHRONIC: integer (nullable = true)\n",
            " |-- TOBACCO: integer (nullable = true)\n",
            " |-- CLASIFFICATION_FINAL: integer (nullable = true)\n",
            " |-- ICU: integer (nullable = true)\n",
            " |-- DIED: integer (nullable = true)\n",
            "\n"
          ]
        }
      ]
    },
    {
      "cell_type": "markdown",
      "source": [
        "# Data Analytics"
      ],
      "metadata": {
        "id": "ySteyRyrjzoF"
      }
    },
    {
      "cell_type": "code",
      "source": [
        "# Use VectorAssembler to create a single vector column from a specified list of vector columns.\n",
        "assembler = VectorAssembler(inputCols = ['USMER', 'MEDICAL_UNIT', 'SEX', 'PATIENT_TYPE', 'INTUBED', 'PNEUMONIA', 'AGE', \n",
        "                                         'PREGNANT', 'DIABETES', 'COPD', 'ASTHMA', 'INMSUPR', 'HYPERTENSION', 'OTHER_DISEASE', \n",
        "                                         'CARDIOVASCULAR', 'OBESITY', 'RENAL_CHRONIC', 'TOBACCO', 'CLASIFFICATION_FINAL', 'ICU'], outputCol='features')\n",
        "output = assembler.transform(cov19_df)"
      ],
      "metadata": {
        "id": "DbOByeofj2f5"
      },
      "execution_count": 76,
      "outputs": []
    },
    {
      "cell_type": "code",
      "source": [
        "# Show the 'features' and DIED columns.\n",
        "output.select('features', 'DIED').show(5, truncate=False)"
      ],
      "metadata": {
        "colab": {
          "base_uri": "https://localhost:8080/"
        },
        "id": "WuEuxqiTPVIv",
        "outputId": "b9da5f0e-9407-419b-8131-66d7703f70a9"
      },
      "execution_count": 77,
      "outputs": [
        {
          "output_type": "stream",
          "name": "stdout",
          "text": [
            "+----------------------------------------------------------------------------------+----+\n",
            "|features                                                                          |DIED|\n",
            "+----------------------------------------------------------------------------------+----+\n",
            "|[2.0,1.0,2.0,2.0,1.0,2.0,55.0,2.0,1.0,2.0,2.0,2.0,2.0,2.0,2.0,2.0,2.0,2.0,3.0,2.0]|1   |\n",
            "|[2.0,1.0,1.0,2.0,2.0,1.0,40.0,2.0,2.0,2.0,2.0,2.0,2.0,2.0,2.0,2.0,2.0,2.0,3.0,2.0]|0   |\n",
            "|[2.0,1.0,1.0,2.0,2.0,2.0,37.0,2.0,1.0,2.0,2.0,2.0,1.0,2.0,2.0,1.0,2.0,2.0,3.0,2.0]|0   |\n",
            "|[2.0,1.0,1.0,2.0,2.0,2.0,25.0,2.0,2.0,2.0,2.0,2.0,2.0,2.0,2.0,2.0,2.0,2.0,3.0,2.0]|0   |\n",
            "|[2.0,1.0,2.0,2.0,2.0,2.0,24.0,2.0,2.0,2.0,2.0,2.0,2.0,2.0,2.0,2.0,2.0,2.0,3.0,2.0]|0   |\n",
            "+----------------------------------------------------------------------------------+----+\n",
            "only showing top 5 rows\n",
            "\n"
          ]
        }
      ]
    },
    {
      "cell_type": "code",
      "source": [
        "# Split the dataset into training (70%) and testing (30%) dataset.\n",
        "train, test = output.randomSplit([0.7, 0.3], seed=7)"
      ],
      "metadata": {
        "id": "43_CopkxuNHy"
      },
      "execution_count": 78,
      "outputs": []
    },
    {
      "cell_type": "code",
      "source": [
        "train.show(5)"
      ],
      "metadata": {
        "colab": {
          "base_uri": "https://localhost:8080/"
        },
        "id": "TYIX-0hTyb8v",
        "outputId": "4b1ed4e0-db3b-4c3a-ca4c-77d83f50771d"
      },
      "execution_count": 79,
      "outputs": [
        {
          "output_type": "stream",
          "name": "stdout",
          "text": [
            "+-----+------------+---+------------+----------+-------+---------+---+--------+--------+----+------+-------+------------+-------------+--------------+-------+-------------+-------+--------------------+---+----+--------------------+\n",
            "|USMER|MEDICAL_UNIT|SEX|PATIENT_TYPE| DATE_DIED|INTUBED|PNEUMONIA|AGE|PREGNANT|DIABETES|COPD|ASTHMA|INMSUPR|HYPERTENSION|OTHER_DISEASE|CARDIOVASCULAR|OBESITY|RENAL_CHRONIC|TOBACCO|CLASIFFICATION_FINAL|ICU|DIED|            features|\n",
            "+-----+------------+---+------------+----------+-------+---------+---+--------+--------+----+------+-------+------------+-------------+--------------+-------+-------------+-------+--------------------+---+----+--------------------+\n",
            "|    1|           2|  1|           2|08/05/2020|      1|        2|  0|       2|       2|   2|     2|      2|           2|            2|             2|      2|            2|      2|                   7|  2|   1|[1.0,2.0,1.0,2.0,...|\n",
            "|    1|           2|  1|           2|9999-99-99|      1|        1| 15|       2|       2|   2|     2|      2|           2|            1|             2|      2|            2|      2|                   7|  1|   0|[1.0,2.0,1.0,2.0,...|\n",
            "|    1|           2|  1|           2|9999-99-99|      2|        1|  1|       2|       2|   2|     2|      2|           2|            2|             2|      2|            2|      2|                   7|  2|   0|[1.0,2.0,1.0,2.0,...|\n",
            "|    1|           2|  1|           2|9999-99-99|      2|        1|  1|       2|       2|   2|     2|      2|           2|            2|             2|      2|            2|      2|                   7|  2|   0|[1.0,2.0,1.0,2.0,...|\n",
            "|    1|           2|  1|           2|9999-99-99|      2|        1|  2|       2|       2|   2|     2|      1|           2|            1|             2|      2|            2|      2|                   7|  2|   0|[1.0,2.0,1.0,2.0,...|\n",
            "+-----+------------+---+------------+----------+-------+---------+---+--------+--------+----+------+-------+------------+-------------+--------------+-------+-------------+-------+--------------------+---+----+--------------------+\n",
            "only showing top 5 rows\n",
            "\n"
          ]
        }
      ]
    },
    {
      "cell_type": "code",
      "source": [
        "# Fit the Logistic Regression to the training data\n",
        "lr = LogisticRegression(labelCol='DIED', featuresCol='features')\n",
        "lrmd = lr.fit(train)"
      ],
      "metadata": {
        "id": "6wMylD1AxHB0"
      },
      "execution_count": 80,
      "outputs": []
    },
    {
      "cell_type": "code",
      "source": [
        "predict_test = lrmd.transform(test)"
      ],
      "metadata": {
        "id": "2EqOXJrKDgU8"
      },
      "execution_count": 81,
      "outputs": []
    },
    {
      "cell_type": "code",
      "source": [
        "predict_test.select('DIED', 'features', 'rawPrediction', 'prediction', 'probability').show(truncate=False)"
      ],
      "metadata": {
        "colab": {
          "base_uri": "https://localhost:8080/"
        },
        "id": "cG7Bcs-lDj4L",
        "outputId": "da04503e-a5c8-41f3-ccbf-cfa87896ac86"
      },
      "execution_count": 82,
      "outputs": [
        {
          "output_type": "stream",
          "name": "stdout",
          "text": [
            "+----+----------------------------------------------------------------------------------+----------------------------------------+----------+-----------------------------------------+\n",
            "|DIED|features                                                                          |rawPrediction                           |prediction|probability                              |\n",
            "+----+----------------------------------------------------------------------------------+----------------------------------------+----------+-----------------------------------------+\n",
            "|0   |[1.0,2.0,1.0,2.0,2.0,1.0,0.0,2.0,2.0,2.0,2.0,2.0,2.0,2.0,2.0,2.0,2.0,2.0,7.0,2.0] |[3.3533218907729765,-3.3533218907729765]|0.0       |[0.9662134471447473,0.03378655285525267] |\n",
            "|0   |[1.0,2.0,1.0,2.0,2.0,1.0,1.0,2.0,2.0,2.0,2.0,2.0,2.0,2.0,2.0,2.0,2.0,2.0,7.0,2.0] |[3.3160620654292616,-3.3160620654292616]|0.0       |[0.9649757423163717,0.03502425768362827] |\n",
            "|0   |[1.0,2.0,1.0,2.0,2.0,1.0,8.0,2.0,2.0,2.0,2.0,2.0,2.0,2.0,2.0,2.0,2.0,2.0,7.0,2.0] |[3.0552432880232523,-3.0552432880232523]|0.0       |[0.9550083552043167,0.044991644795683294]|\n",
            "|0   |[1.0,2.0,1.0,2.0,2.0,1.0,10.0,2.0,2.0,2.0,2.0,2.0,2.0,1.0,1.0,2.0,2.0,2.0,3.0,2.0]|[2.141967405667243,-2.141967405667243]  |0.0       |[0.8949157721257075,0.1050842278742925]  |\n",
            "|0   |[1.0,2.0,1.0,2.0,2.0,1.0,15.0,2.0,2.0,2.0,2.0,2.0,2.0,2.0,2.0,2.0,2.0,2.0,7.0,2.0]|[2.794424510617244,-2.794424510617244]  |0.0       |[0.9423737904889273,0.05762620951107267] |\n",
            "|0   |[1.0,2.0,1.0,2.0,2.0,2.0,4.0,2.0,2.0,2.0,2.0,1.0,2.0,2.0,2.0,2.0,2.0,2.0,7.0,2.0] |[3.60917149498714,-3.60917149498714]    |0.0       |[0.9736394245596003,0.026360575440399714]|\n",
            "|0   |[1.0,2.0,1.0,2.0,2.0,2.0,4.0,2.0,2.0,2.0,2.0,2.0,2.0,2.0,2.0,2.0,2.0,2.0,7.0,2.0] |[3.8283946553448196,-3.8283946553448196]|0.0       |[0.9787182655348939,0.02128173446510606] |\n",
            "|0   |[1.0,2.0,1.0,2.0,2.0,2.0,6.0,2.0,2.0,2.0,2.0,2.0,2.0,2.0,2.0,2.0,2.0,2.0,7.0,2.0] |[3.753875004657389,-3.753875004657389]  |0.0       |[0.9771094610471308,0.02289053895286919] |\n",
            "|0   |[1.0,2.0,1.0,2.0,2.0,2.0,12.0,2.0,2.0,2.0,2.0,2.0,2.0,2.0,2.0,2.0,2.0,2.0,7.0,2.0]|[3.5303160525950963,-3.5303160525950963]|0.0       |[0.97153815302621,0.02846184697378995]   |\n",
            "|0   |[1.0,2.0,2.0,2.0,1.0,1.0,17.0,2.0,2.0,2.0,1.0,2.0,2.0,2.0,2.0,1.0,2.0,2.0,7.0,1.0]|[0.5178845745180327,-0.5178845745180327]|0.0       |[0.6266529761840146,0.3733470238159854]  |\n",
            "|0   |[1.0,2.0,2.0,2.0,2.0,1.0,0.0,2.0,2.0,2.0,2.0,2.0,2.0,2.0,2.0,2.0,2.0,2.0,7.0,2.0] |[3.0549229561996754,-3.0549229561996754]|0.0       |[0.9549945893734768,0.04500541062652319] |\n",
            "|0   |[1.0,2.0,2.0,2.0,2.0,1.0,1.0,2.0,2.0,2.0,2.0,2.0,2.0,2.0,1.0,2.0,2.0,2.0,7.0,2.0] |[3.1693207528775114,-3.1693207528775114]|0.0       |[0.9596632993659997,0.0403367006340003]  |\n",
            "|0   |[1.0,2.0,2.0,2.0,2.0,1.0,1.0,2.0,2.0,2.0,2.0,2.0,2.0,2.0,2.0,2.0,2.0,2.0,7.0,2.0] |[3.0176631308559596,-3.0176631308559596]|0.0       |[0.9533657394408547,0.046634260559145324]|\n",
            "|0   |[1.0,2.0,2.0,2.0,2.0,1.0,1.0,2.0,2.0,2.0,2.0,2.0,2.0,2.0,2.0,2.0,2.0,2.0,7.0,2.0] |[3.0176631308559596,-3.0176631308559596]|0.0       |[0.9533657394408547,0.046634260559145324]|\n",
            "|0   |[1.0,2.0,2.0,2.0,2.0,1.0,2.0,2.0,2.0,2.0,2.0,2.0,2.0,2.0,2.0,2.0,2.0,2.0,7.0,2.0] |[2.9804033055122447,-2.9804033055122447]|0.0       |[0.9516809203991294,0.04831907960087056] |\n",
            "|0   |[1.0,2.0,2.0,2.0,2.0,2.0,1.0,2.0,2.0,2.0,2.0,1.0,2.0,1.0,1.0,2.0,2.0,2.0,7.0,2.0] |[3.3320196764226937,-3.3320196764226937]|0.0       |[0.9655110870506568,0.0344889129493432]  |\n",
            "|0   |[1.0,2.0,2.0,2.0,2.0,2.0,1.0,2.0,2.0,2.0,2.0,2.0,2.0,2.0,2.0,2.0,2.0,2.0,3.0,2.0] |[2.8935513251563787,-2.8935513251563787]|0.0       |[0.9475267337090556,0.0524732662909444]  |\n",
            "|0   |[1.0,2.0,2.0,2.0,2.0,2.0,1.0,2.0,2.0,2.0,2.0,2.0,2.0,2.0,2.0,2.0,2.0,2.0,7.0,2.0] |[3.641775196802665,-3.641775196802665]  |0.0       |[0.9744634237276971,0.02553657627230288] |\n",
            "|1   |[1.0,3.0,1.0,2.0,1.0,1.0,62.0,2.0,1.0,2.0,2.0,2.0,2.0,2.0,2.0,2.0,2.0,2.0,3.0,1.0]|[-1.911914545140404,1.911914545140404]  |1.0       |[0.12876591571287957,0.8712340842871205] |\n",
            "|1   |[1.0,3.0,1.0,2.0,1.0,1.0,70.0,2.0,2.0,2.0,2.0,2.0,1.0,2.0,2.0,1.0,2.0,2.0,3.0,2.0]|[-2.4983752293953754,2.4983752293953754]|1.0       |[0.07597216100216002,0.92402783899784]   |\n",
            "+----+----------------------------------------------------------------------------------+----------------------------------------+----------+-----------------------------------------+\n",
            "only showing top 20 rows\n",
            "\n"
          ]
        }
      ]
    },
    {
      "cell_type": "code",
      "source": [
        "eval = BinaryClassificationEvaluator(labelCol = 'DIED')\n",
        "auc = eval.evaluate(predict_test)\n",
        "print('AUC ROC score:',auc)"
      ],
      "metadata": {
        "colab": {
          "base_uri": "https://localhost:8080/"
        },
        "id": "10o-1DDr-7Ao",
        "outputId": "dc8add6e-4601-4dc9-da5b-120b4f93e3be"
      },
      "execution_count": 300,
      "outputs": [
        {
          "output_type": "stream",
          "name": "stdout",
          "text": [
            "AUC ROC score: 0.8127093907759539\n"
          ]
        }
      ]
    }
  ]
}